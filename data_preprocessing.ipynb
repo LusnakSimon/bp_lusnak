{
 "cells": [
  {
   "cell_type": "code",
   "execution_count": 1,
   "metadata": {},
   "outputs": [],
   "source": [
    "import pandas as pd\n",
    "from datetime import datetime\n",
    "import pytz"
   ]
  },
  {
   "cell_type": "markdown",
   "metadata": {},
   "source": [
    "Cesty k súborom"
   ]
  },
  {
   "cell_type": "code",
   "execution_count": 2,
   "metadata": {},
   "outputs": [],
   "source": [
    "weather_path = './Data_raw/Data_weather_Martin_0522_0722/weather.csv'\n",
    "data_path = './Data_raw/Data_ZSK_0522_0622/data.csv'\n",
    "stops_path = './Data_raw/Data_ZSK_0522_0622/stops.csv'"
   ]
  },
  {
   "cell_type": "markdown",
   "metadata": {},
   "source": [
    "Načítanie dát"
   ]
  },
  {
   "cell_type": "code",
   "execution_count": 3,
   "metadata": {},
   "outputs": [],
   "source": [
    "weather = pd.read_csv(weather_path)\n",
    "data = pd.read_csv(data_path, sep=';')\n",
    "stops = pd.read_csv(stops_path, sep=';', quotechar='\"')"
   ]
  },
  {
   "cell_type": "markdown",
   "metadata": {},
   "source": [
    "Predspracovanie data.csv\n",
    "\n",
    "Odstránenie riadkov s -1 alebo -2 v stĺpcoch RegularArrMinutes a RegDepMinutes"
   ]
  },
  {
   "cell_type": "code",
   "execution_count": 4,
   "metadata": {},
   "outputs": [],
   "source": [
    "data = data[(data['RegularArrMinutes'] >= 0) & (data['RegDepMinutes'] >= 0)]"
   ]
  },
  {
   "cell_type": "markdown",
   "metadata": {},
   "source": [
    "Konverzia desatinnej čiarky na bodku"
   ]
  },
  {
   "cell_type": "code",
   "execution_count": 5,
   "metadata": {},
   "outputs": [],
   "source": [
    "for col in ['FirstTicketMinutes', 'DelayMinArrival', 'DelayMinDeparture']:\n",
    "    data[col] = data[col].str.replace(',', '.').astype(float)"
   ]
  },
  {
   "cell_type": "markdown",
   "metadata": {},
   "source": [
    "Predspracovanie weather.csv\n",
    "\n",
    "Konverzia timestamp na Europe/Bratislava"
   ]
  },
  {
   "cell_type": "code",
   "execution_count": 6,
   "metadata": {},
   "outputs": [],
   "source": [
    "weather['period_end'] = pd.to_datetime(weather['period_end']).dt.tz_convert('Europe/Bratislava')"
   ]
  },
  {
   "cell_type": "markdown",
   "metadata": {},
   "source": [
    "Filtrovanie dát na obdobie od 2022-05-01 do 2022-06-30"
   ]
  },
  {
   "cell_type": "code",
   "execution_count": 7,
   "metadata": {},
   "outputs": [],
   "source": [
    "start_date = datetime(2022, 5, 1, tzinfo=pytz.timezone('Europe/Bratislava'))\n",
    "end_date = datetime(2022, 6, 30, tzinfo=pytz.timezone('Europe/Bratislava'))\n",
    "weather = weather[(weather['period_end'] >= start_date) & (weather['period_end'] <= end_date)]"
   ]
  },
  {
   "cell_type": "markdown",
   "metadata": {},
   "source": [
    "Výber relevantných stĺpcov"
   ]
  },
  {
   "cell_type": "code",
   "execution_count": 8,
   "metadata": {},
   "outputs": [],
   "source": [
    "weather = weather[['period_end', 'air_temp', 'precipitation_rate', 'snow_depth', 'snow_water_equivalent', 'wind_speed_10m']]"
   ]
  },
  {
   "cell_type": "markdown",
   "metadata": {},
   "source": [
    "Podmnožina dát pre okres Martin\n",
    "\n",
    "Filtrovanie zastávok pre okres MT"
   ]
  },
  {
   "cell_type": "code",
   "execution_count": 9,
   "metadata": {},
   "outputs": [],
   "source": [
    "martin_stops = stops[stops['Okres'] == 'MT']['Cislo zastavky']"
   ]
  },
  {
   "cell_type": "markdown",
   "metadata": {},
   "source": [
    "Prepojenie data.csv so stops.csv cez StopId"
   ]
  },
  {
   "cell_type": "code",
   "execution_count": 10,
   "metadata": {},
   "outputs": [],
   "source": [
    "martin_data = data[data['StopId'].isin(martin_stops)]"
   ]
  },
  {
   "cell_type": "markdown",
   "metadata": {},
   "source": [
    "Pridanie dát o počasí\n",
    "\n",
    "Konverzia RegularArrMinutes na datetime pre prepojenie s počasím"
   ]
  },
  {
   "cell_type": "code",
   "execution_count": 11,
   "metadata": {},
   "outputs": [],
   "source": [
    "martin_data = martin_data.copy()\n",
    "\n",
    "martin_data['Date'] = pd.to_datetime(martin_data['Date'], dayfirst=True)\n",
    "# Výpočet času príchodu\n",
    "martin_data['arrival_time'] = martin_data['Date'] + pd.to_timedelta(martin_data['RegularArrMinutes'], unit='m')\n",
    "martin_data['arrival_time'] = martin_data['arrival_time'].dt.tz_localize('Europe/Bratislava')\n",
    "\n",
    "martin_data = martin_data.sort_values(by='arrival_time')\n",
    "weather = weather.sort_values(by='period_end')\n",
    "\n",
    "# Spojenie pomocou merge_asof s toleranciou 5 minút\n",
    "result = pd.merge_asof(\n",
    "    martin_data,\n",
    "    weather,\n",
    "    left_on='arrival_time',\n",
    "    right_on='period_end',\n",
    "    direction='nearest',\n",
    "    tolerance=pd.Timedelta(minutes=5)\n",
    ")\n"
   ]
  },
  {
   "cell_type": "markdown",
   "metadata": {},
   "source": [
    "Export výsledných dát"
   ]
  },
  {
   "cell_type": "code",
   "execution_count": 12,
   "metadata": {},
   "outputs": [
    {
     "name": "stdout",
     "output_type": "stream",
     "text": [
      "Spracované dáta boli uložené do ./Data_processed/processed_data_martin.csv\n"
     ]
    }
   ],
   "source": [
    "result = result.drop(columns=['period_end'])\n",
    "\n",
    "output_path = './Data_processed/processed_data_martin.csv'\n",
    "result.to_csv(output_path, index=False)\n",
    "\n",
    "print(f\"Spracované dáta boli uložené do {output_path}\")"
   ]
  }
 ],
 "metadata": {
  "kernelspec": {
   "display_name": ".venv",
   "language": "python",
   "name": "python3"
  },
  "language_info": {
   "codemirror_mode": {
    "name": "ipython",
    "version": 3
   },
   "file_extension": ".py",
   "mimetype": "text/x-python",
   "name": "python",
   "nbconvert_exporter": "python",
   "pygments_lexer": "ipython3",
   "version": "3.13.0"
  }
 },
 "nbformat": 4,
 "nbformat_minor": 2
}
